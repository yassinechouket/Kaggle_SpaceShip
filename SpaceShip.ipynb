{
 "cells": [
  {
   "cell_type": "code",
   "id": "initial_id",
   "metadata": {
    "collapsed": true,
    "ExecuteTime": {
     "end_time": "2025-04-07T18:42:08.303608Z",
     "start_time": "2025-04-07T18:42:07.987884Z"
    }
   },
   "source": [
    "import matplotlib\n",
    "import pandas as pd\n",
    "import numpy as np\n",
    "import matplotlib.pyplot as plt\n",
    "from attr.filters import exclude\n",
    "from sklearn.model_selection import train_test_split\n",
    "import seaborn as sns\n",
    "from sklearn.preprocessing import StandardScaler\n",
    "from sklearn.pipeline import make_pipeline"
   ],
   "outputs": [],
   "execution_count": 4
  },
  {
   "metadata": {
    "ExecuteTime": {
     "end_time": "2025-04-07T18:42:10.076259Z",
     "start_time": "2025-04-07T18:42:10.029706Z"
    }
   },
   "cell_type": "code",
   "source": [
    "df=pd.read_csv(r\"C:\\Users\\medya\\Desktop\\train SpaceShip.csv\")\n",
    "df0=df.copy()\n",
    "df.shape"
   ],
   "id": "51d1b5f0eab78168",
   "outputs": [
    {
     "data": {
      "text/plain": [
       "(8693, 14)"
      ]
     },
     "execution_count": 5,
     "metadata": {},
     "output_type": "execute_result"
    }
   ],
   "execution_count": 5
  },
  {
   "metadata": {
    "ExecuteTime": {
     "end_time": "2025-04-07T18:42:10.687498Z",
     "start_time": "2025-04-07T18:42:10.673303Z"
    }
   },
   "cell_type": "code",
   "source": "df.head()",
   "id": "1887b0db69fa7743",
   "outputs": [
    {
     "data": {
      "text/plain": [
       "  PassengerId HomePlanet CryoSleep  Cabin  Destination   Age    VIP  \\\n",
       "0     0001_01     Europa     False  B/0/P  TRAPPIST-1e  39.0  False   \n",
       "1     0002_01      Earth     False  F/0/S  TRAPPIST-1e  24.0  False   \n",
       "2     0003_01     Europa     False  A/0/S  TRAPPIST-1e  58.0   True   \n",
       "3     0003_02     Europa     False  A/0/S  TRAPPIST-1e  33.0  False   \n",
       "4     0004_01      Earth     False  F/1/S  TRAPPIST-1e  16.0  False   \n",
       "\n",
       "   RoomService  FoodCourt  ShoppingMall     Spa  VRDeck               Name  \\\n",
       "0          0.0        0.0           0.0     0.0     0.0    Maham Ofracculy   \n",
       "1        109.0        9.0          25.0   549.0    44.0       Juanna Vines   \n",
       "2         43.0     3576.0           0.0  6715.0    49.0      Altark Susent   \n",
       "3          0.0     1283.0         371.0  3329.0   193.0       Solam Susent   \n",
       "4        303.0       70.0         151.0   565.0     2.0  Willy Santantines   \n",
       "\n",
       "   Transported  \n",
       "0        False  \n",
       "1         True  \n",
       "2        False  \n",
       "3        False  \n",
       "4         True  "
      ],
      "text/html": [
       "<div>\n",
       "<style scoped>\n",
       "    .dataframe tbody tr th:only-of-type {\n",
       "        vertical-align: middle;\n",
       "    }\n",
       "\n",
       "    .dataframe tbody tr th {\n",
       "        vertical-align: top;\n",
       "    }\n",
       "\n",
       "    .dataframe thead th {\n",
       "        text-align: right;\n",
       "    }\n",
       "</style>\n",
       "<table border=\"1\" class=\"dataframe\">\n",
       "  <thead>\n",
       "    <tr style=\"text-align: right;\">\n",
       "      <th></th>\n",
       "      <th>PassengerId</th>\n",
       "      <th>HomePlanet</th>\n",
       "      <th>CryoSleep</th>\n",
       "      <th>Cabin</th>\n",
       "      <th>Destination</th>\n",
       "      <th>Age</th>\n",
       "      <th>VIP</th>\n",
       "      <th>RoomService</th>\n",
       "      <th>FoodCourt</th>\n",
       "      <th>ShoppingMall</th>\n",
       "      <th>Spa</th>\n",
       "      <th>VRDeck</th>\n",
       "      <th>Name</th>\n",
       "      <th>Transported</th>\n",
       "    </tr>\n",
       "  </thead>\n",
       "  <tbody>\n",
       "    <tr>\n",
       "      <th>0</th>\n",
       "      <td>0001_01</td>\n",
       "      <td>Europa</td>\n",
       "      <td>False</td>\n",
       "      <td>B/0/P</td>\n",
       "      <td>TRAPPIST-1e</td>\n",
       "      <td>39.0</td>\n",
       "      <td>False</td>\n",
       "      <td>0.0</td>\n",
       "      <td>0.0</td>\n",
       "      <td>0.0</td>\n",
       "      <td>0.0</td>\n",
       "      <td>0.0</td>\n",
       "      <td>Maham Ofracculy</td>\n",
       "      <td>False</td>\n",
       "    </tr>\n",
       "    <tr>\n",
       "      <th>1</th>\n",
       "      <td>0002_01</td>\n",
       "      <td>Earth</td>\n",
       "      <td>False</td>\n",
       "      <td>F/0/S</td>\n",
       "      <td>TRAPPIST-1e</td>\n",
       "      <td>24.0</td>\n",
       "      <td>False</td>\n",
       "      <td>109.0</td>\n",
       "      <td>9.0</td>\n",
       "      <td>25.0</td>\n",
       "      <td>549.0</td>\n",
       "      <td>44.0</td>\n",
       "      <td>Juanna Vines</td>\n",
       "      <td>True</td>\n",
       "    </tr>\n",
       "    <tr>\n",
       "      <th>2</th>\n",
       "      <td>0003_01</td>\n",
       "      <td>Europa</td>\n",
       "      <td>False</td>\n",
       "      <td>A/0/S</td>\n",
       "      <td>TRAPPIST-1e</td>\n",
       "      <td>58.0</td>\n",
       "      <td>True</td>\n",
       "      <td>43.0</td>\n",
       "      <td>3576.0</td>\n",
       "      <td>0.0</td>\n",
       "      <td>6715.0</td>\n",
       "      <td>49.0</td>\n",
       "      <td>Altark Susent</td>\n",
       "      <td>False</td>\n",
       "    </tr>\n",
       "    <tr>\n",
       "      <th>3</th>\n",
       "      <td>0003_02</td>\n",
       "      <td>Europa</td>\n",
       "      <td>False</td>\n",
       "      <td>A/0/S</td>\n",
       "      <td>TRAPPIST-1e</td>\n",
       "      <td>33.0</td>\n",
       "      <td>False</td>\n",
       "      <td>0.0</td>\n",
       "      <td>1283.0</td>\n",
       "      <td>371.0</td>\n",
       "      <td>3329.0</td>\n",
       "      <td>193.0</td>\n",
       "      <td>Solam Susent</td>\n",
       "      <td>False</td>\n",
       "    </tr>\n",
       "    <tr>\n",
       "      <th>4</th>\n",
       "      <td>0004_01</td>\n",
       "      <td>Earth</td>\n",
       "      <td>False</td>\n",
       "      <td>F/1/S</td>\n",
       "      <td>TRAPPIST-1e</td>\n",
       "      <td>16.0</td>\n",
       "      <td>False</td>\n",
       "      <td>303.0</td>\n",
       "      <td>70.0</td>\n",
       "      <td>151.0</td>\n",
       "      <td>565.0</td>\n",
       "      <td>2.0</td>\n",
       "      <td>Willy Santantines</td>\n",
       "      <td>True</td>\n",
       "    </tr>\n",
       "  </tbody>\n",
       "</table>\n",
       "</div>"
      ]
     },
     "execution_count": 6,
     "metadata": {},
     "output_type": "execute_result"
    }
   ],
   "execution_count": 6
  },
  {
   "metadata": {
    "ExecuteTime": {
     "end_time": "2025-04-07T18:42:11.654069Z",
     "start_time": "2025-04-07T18:42:11.622159Z"
    }
   },
   "cell_type": "code",
   "source": "df.info()",
   "id": "c17a8a41e4f50ea5",
   "outputs": [
    {
     "name": "stdout",
     "output_type": "stream",
     "text": [
      "<class 'pandas.core.frame.DataFrame'>\n",
      "RangeIndex: 8693 entries, 0 to 8692\n",
      "Data columns (total 14 columns):\n",
      " #   Column        Non-Null Count  Dtype  \n",
      "---  ------        --------------  -----  \n",
      " 0   PassengerId   8693 non-null   object \n",
      " 1   HomePlanet    8492 non-null   object \n",
      " 2   CryoSleep     8476 non-null   object \n",
      " 3   Cabin         8494 non-null   object \n",
      " 4   Destination   8511 non-null   object \n",
      " 5   Age           8514 non-null   float64\n",
      " 6   VIP           8490 non-null   object \n",
      " 7   RoomService   8512 non-null   float64\n",
      " 8   FoodCourt     8510 non-null   float64\n",
      " 9   ShoppingMall  8485 non-null   float64\n",
      " 10  Spa           8510 non-null   float64\n",
      " 11  VRDeck        8505 non-null   float64\n",
      " 12  Name          8493 non-null   object \n",
      " 13  Transported   8693 non-null   bool   \n",
      "dtypes: bool(1), float64(6), object(7)\n",
      "memory usage: 891.5+ KB\n"
     ]
    }
   ],
   "execution_count": 7
  },
  {
   "metadata": {
    "ExecuteTime": {
     "end_time": "2025-04-07T18:42:12.320008Z",
     "start_time": "2025-04-07T18:42:12.311441Z"
    }
   },
   "cell_type": "code",
   "source": "df.isnull().sum()",
   "id": "33492af77640b46e",
   "outputs": [
    {
     "data": {
      "text/plain": [
       "PassengerId       0\n",
       "HomePlanet      201\n",
       "CryoSleep       217\n",
       "Cabin           199\n",
       "Destination     182\n",
       "Age             179\n",
       "VIP             203\n",
       "RoomService     181\n",
       "FoodCourt       183\n",
       "ShoppingMall    208\n",
       "Spa             183\n",
       "VRDeck          188\n",
       "Name            200\n",
       "Transported       0\n",
       "dtype: int64"
      ]
     },
     "execution_count": 8,
     "metadata": {},
     "output_type": "execute_result"
    }
   ],
   "execution_count": 8
  },
  {
   "metadata": {
    "ExecuteTime": {
     "end_time": "2025-04-07T18:42:13.019058Z",
     "start_time": "2025-04-07T18:42:13.006830Z"
    }
   },
   "cell_type": "code",
   "source": [
    "L=['PassengerId','HomePlanet','CryoSleep','Cabin','Destination','VIP','Name']\n",
    "for i in L:\n",
    "    print(i, ':', df[i].unique(), 'num :', df[i].nunique())\n"
   ],
   "id": "116b07cec59de734",
   "outputs": [
    {
     "name": "stdout",
     "output_type": "stream",
     "text": [
      "PassengerId : ['0001_01' '0002_01' '0003_01' ... '9279_01' '9280_01' '9280_02'] num : 8693\n",
      "HomePlanet : ['Europa' 'Earth' 'Mars' nan] num : 3\n",
      "CryoSleep : [False True nan] num : 2\n",
      "Cabin : ['B/0/P' 'F/0/S' 'A/0/S' ... 'G/1499/S' 'G/1500/S' 'E/608/S'] num : 6560\n",
      "Destination : ['TRAPPIST-1e' 'PSO J318.5-22' '55 Cancri e' nan] num : 3\n",
      "VIP : [False True nan] num : 2\n",
      "Name : ['Maham Ofracculy' 'Juanna Vines' 'Altark Susent' ... 'Fayey Connon'\n",
      " 'Celeon Hontichre' 'Propsh Hontichre'] num : 8473\n"
     ]
    }
   ],
   "execution_count": 9
  },
  {
   "metadata": {
    "ExecuteTime": {
     "end_time": "2025-04-07T18:42:13.678547Z",
     "start_time": "2025-04-07T18:42:13.659158Z"
    }
   },
   "cell_type": "code",
   "source": [
    "df['HomePlanet'].fillna('Missing', inplace=True)\n",
    "df['deck'] = df['Cabin'].apply(lambda x: x.split('/')[0] if pd.notnull(x) else 'Missing')\n",
    "df['side'] = df['Cabin'].apply(lambda x: x.split('/')[2] if pd.notnull(x) else 'Missing')\n",
    "df.drop(columns='Cabin', inplace=True)\n"
   ],
   "id": "5420275e9040d703",
   "outputs": [
    {
     "name": "stderr",
     "output_type": "stream",
     "text": [
      "C:\\Users\\medya\\AppData\\Local\\Temp\\ipykernel_32692\\2887041664.py:1: FutureWarning: A value is trying to be set on a copy of a DataFrame or Series through chained assignment using an inplace method.\n",
      "The behavior will change in pandas 3.0. This inplace method will never work because the intermediate object on which we are setting values always behaves as a copy.\n",
      "\n",
      "For example, when doing 'df[col].method(value, inplace=True)', try using 'df.method({col: value}, inplace=True)' or df[col] = df[col].method(value) instead, to perform the operation inplace on the original object.\n",
      "\n",
      "\n",
      "  df['HomePlanet'].fillna('Missing', inplace=True)\n"
     ]
    }
   ],
   "execution_count": 10
  },
  {
   "metadata": {
    "ExecuteTime": {
     "end_time": "2025-04-07T18:42:19.173291Z",
     "start_time": "2025-04-07T18:42:19.153948Z"
    }
   },
   "cell_type": "code",
   "source": "df[df.deck=='Missing'].head()",
   "id": "f226482b56b11622",
   "outputs": [
    {
     "data": {
      "text/plain": [
       "    PassengerId HomePlanet CryoSleep  Destination   Age    VIP  RoomService  \\\n",
       "15      0012_01      Earth     False  TRAPPIST-1e  31.0  False         32.0   \n",
       "93      0101_01       Mars      True  TRAPPIST-1e  31.0  False          0.0   \n",
       "103     0110_01     Europa     False  TRAPPIST-1e  32.0  False          0.0   \n",
       "222     0239_01       Mars     False  TRAPPIST-1e  37.0  False        637.0   \n",
       "227     0244_01       Mars      True  TRAPPIST-1e  43.0  False          0.0   \n",
       "\n",
       "     FoodCourt  ShoppingMall     Spa  VRDeck               Name  Transported  \\\n",
       "15         0.0         876.0     0.0     0.0      Justie Pooles        False   \n",
       "93         0.0           0.0     0.0     0.0          Book Trad         True   \n",
       "103      410.0           6.0  3929.0   764.0  Graviph Aloubtled        False   \n",
       "222        0.0           0.0    92.0   319.0       Diedow Resty        False   \n",
       "227        0.0           0.0     0.0     0.0          Froos Sad         True   \n",
       "\n",
       "        deck     side  \n",
       "15   Missing  Missing  \n",
       "93   Missing  Missing  \n",
       "103  Missing  Missing  \n",
       "222  Missing  Missing  \n",
       "227  Missing  Missing  "
      ],
      "text/html": [
       "<div>\n",
       "<style scoped>\n",
       "    .dataframe tbody tr th:only-of-type {\n",
       "        vertical-align: middle;\n",
       "    }\n",
       "\n",
       "    .dataframe tbody tr th {\n",
       "        vertical-align: top;\n",
       "    }\n",
       "\n",
       "    .dataframe thead th {\n",
       "        text-align: right;\n",
       "    }\n",
       "</style>\n",
       "<table border=\"1\" class=\"dataframe\">\n",
       "  <thead>\n",
       "    <tr style=\"text-align: right;\">\n",
       "      <th></th>\n",
       "      <th>PassengerId</th>\n",
       "      <th>HomePlanet</th>\n",
       "      <th>CryoSleep</th>\n",
       "      <th>Destination</th>\n",
       "      <th>Age</th>\n",
       "      <th>VIP</th>\n",
       "      <th>RoomService</th>\n",
       "      <th>FoodCourt</th>\n",
       "      <th>ShoppingMall</th>\n",
       "      <th>Spa</th>\n",
       "      <th>VRDeck</th>\n",
       "      <th>Name</th>\n",
       "      <th>Transported</th>\n",
       "      <th>deck</th>\n",
       "      <th>side</th>\n",
       "    </tr>\n",
       "  </thead>\n",
       "  <tbody>\n",
       "    <tr>\n",
       "      <th>15</th>\n",
       "      <td>0012_01</td>\n",
       "      <td>Earth</td>\n",
       "      <td>False</td>\n",
       "      <td>TRAPPIST-1e</td>\n",
       "      <td>31.0</td>\n",
       "      <td>False</td>\n",
       "      <td>32.0</td>\n",
       "      <td>0.0</td>\n",
       "      <td>876.0</td>\n",
       "      <td>0.0</td>\n",
       "      <td>0.0</td>\n",
       "      <td>Justie Pooles</td>\n",
       "      <td>False</td>\n",
       "      <td>Missing</td>\n",
       "      <td>Missing</td>\n",
       "    </tr>\n",
       "    <tr>\n",
       "      <th>93</th>\n",
       "      <td>0101_01</td>\n",
       "      <td>Mars</td>\n",
       "      <td>True</td>\n",
       "      <td>TRAPPIST-1e</td>\n",
       "      <td>31.0</td>\n",
       "      <td>False</td>\n",
       "      <td>0.0</td>\n",
       "      <td>0.0</td>\n",
       "      <td>0.0</td>\n",
       "      <td>0.0</td>\n",
       "      <td>0.0</td>\n",
       "      <td>Book Trad</td>\n",
       "      <td>True</td>\n",
       "      <td>Missing</td>\n",
       "      <td>Missing</td>\n",
       "    </tr>\n",
       "    <tr>\n",
       "      <th>103</th>\n",
       "      <td>0110_01</td>\n",
       "      <td>Europa</td>\n",
       "      <td>False</td>\n",
       "      <td>TRAPPIST-1e</td>\n",
       "      <td>32.0</td>\n",
       "      <td>False</td>\n",
       "      <td>0.0</td>\n",
       "      <td>410.0</td>\n",
       "      <td>6.0</td>\n",
       "      <td>3929.0</td>\n",
       "      <td>764.0</td>\n",
       "      <td>Graviph Aloubtled</td>\n",
       "      <td>False</td>\n",
       "      <td>Missing</td>\n",
       "      <td>Missing</td>\n",
       "    </tr>\n",
       "    <tr>\n",
       "      <th>222</th>\n",
       "      <td>0239_01</td>\n",
       "      <td>Mars</td>\n",
       "      <td>False</td>\n",
       "      <td>TRAPPIST-1e</td>\n",
       "      <td>37.0</td>\n",
       "      <td>False</td>\n",
       "      <td>637.0</td>\n",
       "      <td>0.0</td>\n",
       "      <td>0.0</td>\n",
       "      <td>92.0</td>\n",
       "      <td>319.0</td>\n",
       "      <td>Diedow Resty</td>\n",
       "      <td>False</td>\n",
       "      <td>Missing</td>\n",
       "      <td>Missing</td>\n",
       "    </tr>\n",
       "    <tr>\n",
       "      <th>227</th>\n",
       "      <td>0244_01</td>\n",
       "      <td>Mars</td>\n",
       "      <td>True</td>\n",
       "      <td>TRAPPIST-1e</td>\n",
       "      <td>43.0</td>\n",
       "      <td>False</td>\n",
       "      <td>0.0</td>\n",
       "      <td>0.0</td>\n",
       "      <td>0.0</td>\n",
       "      <td>0.0</td>\n",
       "      <td>0.0</td>\n",
       "      <td>Froos Sad</td>\n",
       "      <td>True</td>\n",
       "      <td>Missing</td>\n",
       "      <td>Missing</td>\n",
       "    </tr>\n",
       "  </tbody>\n",
       "</table>\n",
       "</div>"
      ]
     },
     "execution_count": 11,
     "metadata": {},
     "output_type": "execute_result"
    }
   ],
   "execution_count": 11
  },
  {
   "metadata": {
    "ExecuteTime": {
     "end_time": "2025-04-07T18:42:21.571551Z",
     "start_time": "2025-04-07T18:42:21.566831Z"
    }
   },
   "cell_type": "code",
   "source": "df['Age']=df['Age'].fillna(df['Age'].mean())",
   "id": "ebda344d8c80fcae",
   "outputs": [],
   "execution_count": 12
  },
  {
   "metadata": {
    "ExecuteTime": {
     "end_time": "2025-04-07T18:42:22.422660Z",
     "start_time": "2025-04-07T18:42:22.415652Z"
    }
   },
   "cell_type": "code",
   "source": "df.Destination.value_counts()",
   "id": "e0742bd3abd4f3aa",
   "outputs": [
    {
     "data": {
      "text/plain": [
       "Destination\n",
       "TRAPPIST-1e      5915\n",
       "55 Cancri e      1800\n",
       "PSO J318.5-22     796\n",
       "Name: count, dtype: int64"
      ]
     },
     "execution_count": 13,
     "metadata": {},
     "output_type": "execute_result"
    }
   ],
   "execution_count": 13
  },
  {
   "metadata": {
    "ExecuteTime": {
     "end_time": "2025-04-07T18:42:23.300033Z",
     "start_time": "2025-04-07T18:42:23.294615Z"
    }
   },
   "cell_type": "code",
   "source": [
    "df['Destination'] = df['Destination'].fillna('TRAPPIST-1e')\n",
    "print(df.Destination.isnull().sum())"
   ],
   "id": "bd1bfc163e6d5971",
   "outputs": [
    {
     "name": "stdout",
     "output_type": "stream",
     "text": [
      "0\n"
     ]
    }
   ],
   "execution_count": 14
  },
  {
   "metadata": {
    "ExecuteTime": {
     "end_time": "2025-04-07T18:42:25.845712Z",
     "start_time": "2025-04-07T18:42:25.839244Z"
    }
   },
   "cell_type": "code",
   "source": "df['CryoSleep'].value_counts()",
   "id": "923f17848a57226d",
   "outputs": [
    {
     "data": {
      "text/plain": [
       "CryoSleep\n",
       "False    5439\n",
       "True     3037\n",
       "Name: count, dtype: int64"
      ]
     },
     "execution_count": 15,
     "metadata": {},
     "output_type": "execute_result"
    }
   ],
   "execution_count": 15
  },
  {
   "metadata": {
    "ExecuteTime": {
     "end_time": "2025-04-07T18:42:27.065398Z",
     "start_time": "2025-04-07T18:42:26.756094Z"
    }
   },
   "cell_type": "code",
   "source": [
    "corr_matrix = df.corr(numeric_only=True)\n",
    "plt.figure(figsize=(12, 8))\n",
    "sns.heatmap(corr_matrix, annot=True, cmap='coolwarm', linewidths=0.5)\n",
    "plt.title('Feature Correlation Matrix')\n",
    "plt.show()\n"
   ],
   "id": "8973993a9a64d358",
   "outputs": [
    {
     "data": {
      "text/plain": [
       "<Figure size 1200x800 with 2 Axes>"
      ],
      "image/png": "[encoded data removed]"
     },
     "metadata": {},
     "output_type": "display_data"
    }
   ],
   "execution_count": 16
  },
  {
   "metadata": {
    "ExecuteTime": {
     "end_time": "2025-04-07T18:42:27.952007Z",
     "start_time": "2025-04-07T18:42:27.936485Z"
    }
   },
   "cell_type": "code",
   "source": "df[df['CryoSleep']==True].head()",
   "id": "34b31f93b1e426f9",
   "outputs": [
    {
     "data": {
      "text/plain": [
       "   PassengerId HomePlanet CryoSleep  Destination   Age    VIP  RoomService  \\\n",
       "7      0006_02      Earth      True  TRAPPIST-1e  28.0  False          0.0   \n",
       "9      0008_01     Europa      True  55 Cancri e  14.0  False          0.0   \n",
       "10     0008_02     Europa      True  TRAPPIST-1e  34.0  False          0.0   \n",
       "18     0016_01       Mars      True  TRAPPIST-1e  45.0  False          0.0   \n",
       "21     0020_01      Earth      True  TRAPPIST-1e   1.0  False          0.0   \n",
       "\n",
       "    FoodCourt  ShoppingMall  Spa  VRDeck                Name  Transported  \\\n",
       "7         0.0           0.0  0.0     NaN  Candra Jacostaffey         True   \n",
       "9         0.0           0.0  0.0     0.0      Erraiam Flatic         True   \n",
       "10        0.0           NaN  0.0     0.0      Altardr Flatic         True   \n",
       "18        0.0           0.0  0.0     0.0          Alus Upead         True   \n",
       "21        0.0           0.0  0.0     0.0   Almary Brantuarez        False   \n",
       "\n",
       "   deck side  \n",
       "7     G    S  \n",
       "9     B    P  \n",
       "10    B    P  \n",
       "18    F    P  \n",
       "21    E    S  "
      ],
      "text/html": [
       "<div>\n",
       "<style scoped>\n",
       "    .dataframe tbody tr th:only-of-type {\n",
       "        vertical-align: middle;\n",
       "    }\n",
       "\n",
       "    .dataframe tbody tr th {\n",
       "        vertical-align: top;\n",
       "    }\n",
       "\n",
       "    .dataframe thead th {\n",
       "        text-align: right;\n",
       "    }\n",
       "</style>\n",
       "<table border=\"1\" class=\"dataframe\">\n",
       "  <thead>\n",
       "    <tr style=\"text-align: right;\">\n",
       "      <th></th>\n",
       "      <th>PassengerId</th>\n",
       "      <th>HomePlanet</th>\n",
       "      <th>CryoSleep</th>\n",
       "      <th>Destination</th>\n",
       "      <th>Age</th>\n",
       "      <th>VIP</th>\n",
       "      <th>RoomService</th>\n",
       "      <th>FoodCourt</th>\n",
       "      <th>ShoppingMall</th>\n",
       "      <th>Spa</th>\n",
       "      <th>VRDeck</th>\n",
       "      <th>Name</th>\n",
       "      <th>Transported</th>\n",
       "      <th>deck</th>\n",
       "      <th>side</th>\n",
       "    </tr>\n",
       "  </thead>\n",
       "  <tbody>\n",
       "    <tr>\n",
       "      <th>7</th>\n",
       "      <td>0006_02</td>\n",
       "      <td>Earth</td>\n",
       "      <td>True</td>\n",
       "      <td>TRAPPIST-1e</td>\n",
       "      <td>28.0</td>\n",
       "      <td>False</td>\n",
       "      <td>0.0</td>\n",
       "      <td>0.0</td>\n",
       "      <td>0.0</td>\n",
       "      <td>0.0</td>\n",
       "      <td>NaN</td>\n",
       "      <td>Candra Jacostaffey</td>\n",
       "      <td>True</td>\n",
       "      <td>G</td>\n",
       "      <td>S</td>\n",
       "    </tr>\n",
       "    <tr>\n",
       "      <th>9</th>\n",
       "      <td>0008_01</td>\n",
       "      <td>Europa</td>\n",
       "      <td>True</td>\n",
       "      <td>55 Cancri e</td>\n",
       "      <td>14.0</td>\n",
       "      <td>False</td>\n",
       "      <td>0.0</td>\n",
       "      <td>0.0</td>\n",
       "      <td>0.0</td>\n",
       "      <td>0.0</td>\n",
       "      <td>0.0</td>\n",
       "      <td>Erraiam Flatic</td>\n",
       "      <td>True</td>\n",
       "      <td>B</td>\n",
       "      <td>P</td>\n",
       "    </tr>\n",
       "    <tr>\n",
       "      <th>10</th>\n",
       "      <td>0008_02</td>\n",
       "      <td>Europa</td>\n",
       "      <td>True</td>\n",
       "      <td>TRAPPIST-1e</td>\n",
       "      <td>34.0</td>\n",
       "      <td>False</td>\n",
       "      <td>0.0</td>\n",
       "      <td>0.0</td>\n",
       "      <td>NaN</td>\n",
       "      <td>0.0</td>\n",
       "      <td>0.0</td>\n",
       "      <td>Altardr Flatic</td>\n",
       "      <td>True</td>\n",
       "      <td>B</td>\n",
       "      <td>P</td>\n",
       "    </tr>\n",
       "    <tr>\n",
       "      <th>18</th>\n",
       "      <td>0016_01</td>\n",
       "      <td>Mars</td>\n",
       "      <td>True</td>\n",
       "      <td>TRAPPIST-1e</td>\n",
       "      <td>45.0</td>\n",
       "      <td>False</td>\n",
       "      <td>0.0</td>\n",
       "      <td>0.0</td>\n",
       "      <td>0.0</td>\n",
       "      <td>0.0</td>\n",
       "      <td>0.0</td>\n",
       "      <td>Alus Upead</td>\n",
       "      <td>True</td>\n",
       "      <td>F</td>\n",
       "      <td>P</td>\n",
       "    </tr>\n",
       "    <tr>\n",
       "      <th>21</th>\n",
       "      <td>0020_01</td>\n",
       "      <td>Earth</td>\n",
       "      <td>True</td>\n",
       "      <td>TRAPPIST-1e</td>\n",
       "      <td>1.0</td>\n",
       "      <td>False</td>\n",
       "      <td>0.0</td>\n",
       "      <td>0.0</td>\n",
       "      <td>0.0</td>\n",
       "      <td>0.0</td>\n",
       "      <td>0.0</td>\n",
       "      <td>Almary Brantuarez</td>\n",
       "      <td>False</td>\n",
       "      <td>E</td>\n",
       "      <td>S</td>\n",
       "    </tr>\n",
       "  </tbody>\n",
       "</table>\n",
       "</div>"
      ]
     },
     "execution_count": 17,
     "metadata": {},
     "output_type": "execute_result"
    }
   ],
   "execution_count": 17
  },
  {
   "metadata": {
    "ExecuteTime": {
     "end_time": "2025-04-07T18:42:31.112373Z",
     "start_time": "2025-04-07T18:42:31.102846Z"
    }
   },
   "cell_type": "code",
   "source": "df.isnull().sum()",
   "id": "1e3215c6f6cb9f2d",
   "outputs": [
    {
     "data": {
      "text/plain": [
       "PassengerId       0\n",
       "HomePlanet        0\n",
       "CryoSleep       217\n",
       "Destination       0\n",
       "Age               0\n",
       "VIP             203\n",
       "RoomService     181\n",
       "FoodCourt       183\n",
       "ShoppingMall    208\n",
       "Spa             183\n",
       "VRDeck          188\n",
       "Name            200\n",
       "Transported       0\n",
       "deck              0\n",
       "side              0\n",
       "dtype: int64"
      ]
     },
     "execution_count": 18,
     "metadata": {},
     "output_type": "execute_result"
    }
   ],
   "execution_count": 18
  },
  {
   "metadata": {
    "ExecuteTime": {
     "end_time": "2025-04-07T18:42:31.992200Z",
     "start_time": "2025-04-07T18:42:31.981015Z"
    }
   },
   "cell_type": "code",
   "source": "df[(df['CryoSleep'].isnull()) & (df['Spa'].isnull())].head()",
   "id": "7e299d8c323f37a1",
   "outputs": [
    {
     "data": {
      "text/plain": [
       "     PassengerId HomePlanet CryoSleep  Destination   Age    VIP  RoomService  \\\n",
       "2134     2291_01      Earth       NaN  55 Cancri e   6.0  False          0.0   \n",
       "3072     3315_01      Earth       NaN  TRAPPIST-1e  15.0  False         10.0   \n",
       "4164     4446_05     Europa       NaN  TRAPPIST-1e  33.0  False          0.0   \n",
       "4834     5157_01      Earth       NaN  TRAPPIST-1e  40.0  False        814.0   \n",
       "6904     7314_01     Europa       NaN  TRAPPIST-1e  33.0  False          0.0   \n",
       "\n",
       "      FoodCourt  ShoppingMall  Spa  VRDeck              Name  Transported  \\\n",
       "2134        0.0           0.0  NaN     0.0    Patoya Pittler        False   \n",
       "3072        0.0          99.0  NaN  2031.0               NaN        False   \n",
       "4164     4017.0           NaN  NaN  2260.0    Phah Chocaters         True   \n",
       "4834       12.0           2.0  NaN    79.0  Melia Gardsondez         True   \n",
       "6904        0.0           0.0  NaN     0.0  Aldun Venticable         True   \n",
       "\n",
       "     deck side  \n",
       "2134    G    S  \n",
       "3072    F    S  \n",
       "4164    B    S  \n",
       "4834    G    S  \n",
       "6904    C    P  "
      ],
      "text/html": [
       "<div>\n",
       "<style scoped>\n",
       "    .dataframe tbody tr th:only-of-type {\n",
       "        vertical-align: middle;\n",
       "    }\n",
       "\n",
       "    .dataframe tbody tr th {\n",
       "        vertical-align: top;\n",
       "    }\n",
       "\n",
       "    .dataframe thead th {\n",
       "        text-align: right;\n",
       "    }\n",
       "</style>\n",
       "<table border=\"1\" class=\"dataframe\">\n",
       "  <thead>\n",
       "    <tr style=\"text-align: right;\">\n",
       "      <th></th>\n",
       "      <th>PassengerId</th>\n",
       "      <th>HomePlanet</th>\n",
       "      <th>CryoSleep</th>\n",
       "      <th>Destination</th>\n",
       "      <th>Age</th>\n",
       "      <th>VIP</th>\n",
       "      <th>RoomService</th>\n",
       "      <th>FoodCourt</th>\n",
       "      <th>ShoppingMall</th>\n",
       "      <th>Spa</th>\n",
       "      <th>VRDeck</th>\n",
       "      <th>Name</th>\n",
       "      <th>Transported</th>\n",
       "      <th>deck</th>\n",
       "      <th>side</th>\n",
       "    </tr>\n",
       "  </thead>\n",
       "  <tbody>\n",
       "    <tr>\n",
       "      <th>2134</th>\n",
       "      <td>2291_01</td>\n",
       "      <td>Earth</td>\n",
       "      <td>NaN</td>\n",
       "      <td>55 Cancri e</td>\n",
       "      <td>6.0</td>\n",
       "      <td>False</td>\n",
       "      <td>0.0</td>\n",
       "      <td>0.0</td>\n",
       "      <td>0.0</td>\n",
       "      <td>NaN</td>\n",
       "      <td>0.0</td>\n",
       "      <td>Patoya Pittler</td>\n",
       "      <td>False</td>\n",
       "      <td>G</td>\n",
       "      <td>S</td>\n",
       "    </tr>\n",
       "    <tr>\n",
       "      <th>3072</th>\n",
       "      <td>3315_01</td>\n",
       "      <td>Earth</td>\n",
       "      <td>NaN</td>\n",
       "      <td>TRAPPIST-1e</td>\n",
       "      <td>15.0</td>\n",
       "      <td>False</td>\n",
       "      <td>10.0</td>\n",
       "      <td>0.0</td>\n",
       "      <td>99.0</td>\n",
       "      <td>NaN</td>\n",
       "      <td>2031.0</td>\n",
       "      <td>NaN</td>\n",
       "      <td>False</td>\n",
       "      <td>F</td>\n",
       "      <td>S</td>\n",
       "    </tr>\n",
       "    <tr>\n",
       "      <th>4164</th>\n",
       "      <td>4446_05</td>\n",
       "      <td>Europa</td>\n",
       "      <td>NaN</td>\n",
       "      <td>TRAPPIST-1e</td>\n",
       "      <td>33.0</td>\n",
       "      <td>False</td>\n",
       "      <td>0.0</td>\n",
       "      <td>4017.0</td>\n",
       "      <td>NaN</td>\n",
       "      <td>NaN</td>\n",
       "      <td>2260.0</td>\n",
       "      <td>Phah Chocaters</td>\n",
       "      <td>True</td>\n",
       "      <td>B</td>\n",
       "      <td>S</td>\n",
       "    </tr>\n",
       "    <tr>\n",
       "      <th>4834</th>\n",
       "      <td>5157_01</td>\n",
       "      <td>Earth</td>\n",
       "      <td>NaN</td>\n",
       "      <td>TRAPPIST-1e</td>\n",
       "      <td>40.0</td>\n",
       "      <td>False</td>\n",
       "      <td>814.0</td>\n",
       "      <td>12.0</td>\n",
       "      <td>2.0</td>\n",
       "      <td>NaN</td>\n",
       "      <td>79.0</td>\n",
       "      <td>Melia Gardsondez</td>\n",
       "      <td>True</td>\n",
       "      <td>G</td>\n",
       "      <td>S</td>\n",
       "    </tr>\n",
       "    <tr>\n",
       "      <th>6904</th>\n",
       "      <td>7314_01</td>\n",
       "      <td>Europa</td>\n",
       "      <td>NaN</td>\n",
       "      <td>TRAPPIST-1e</td>\n",
       "      <td>33.0</td>\n",
       "      <td>False</td>\n",
       "      <td>0.0</td>\n",
       "      <td>0.0</td>\n",
       "      <td>0.0</td>\n",
       "      <td>NaN</td>\n",
       "      <td>0.0</td>\n",
       "      <td>Aldun Venticable</td>\n",
       "      <td>True</td>\n",
       "      <td>C</td>\n",
       "      <td>P</td>\n",
       "    </tr>\n",
       "  </tbody>\n",
       "</table>\n",
       "</div>"
      ]
     },
     "execution_count": 19,
     "metadata": {},
     "output_type": "execute_result"
    }
   ],
   "execution_count": 19
  },
  {
   "metadata": {
    "ExecuteTime": {
     "end_time": "2025-04-07T18:42:32.841601Z",
     "start_time": "2025-04-07T18:42:32.817574Z"
    }
   },
   "cell_type": "code",
   "source": [
    "money_cols = ['RoomService', 'FoodCourt', 'ShoppingMall', 'Spa', 'VRDeck']\n",
    "for col in money_cols:\n",
    "    df.loc[(df['CryoSleep'] == True) & (df[col].isna()), col] = 0\n",
    "for col in money_cols:\n",
    "    mean_value=df[df['CryoSleep']== False][col].mean()\n",
    "    df.loc[(df['CryoSleep'] == False) & (df[col].isna()), col] = mean_value\n"
   ],
   "id": "352af6eb2542f1f3",
   "outputs": [],
   "execution_count": 20
  },
  {
   "metadata": {
    "ExecuteTime": {
     "end_time": "2025-04-07T18:42:33.606909Z",
     "start_time": "2025-04-07T18:42:33.599519Z"
    }
   },
   "cell_type": "code",
   "source": "df.isnull().sum()",
   "id": "e8486f5d1b7d019e",
   "outputs": [
    {
     "data": {
      "text/plain": [
       "PassengerId       0\n",
       "HomePlanet        0\n",
       "CryoSleep       217\n",
       "Destination       0\n",
       "Age               0\n",
       "VIP             203\n",
       "RoomService       2\n",
       "FoodCourt         3\n",
       "ShoppingMall      8\n",
       "Spa               5\n",
       "VRDeck            7\n",
       "Name            200\n",
       "Transported       0\n",
       "deck              0\n",
       "side              0\n",
       "dtype: int64"
      ]
     },
     "execution_count": 21,
     "metadata": {},
     "output_type": "execute_result"
    }
   ],
   "execution_count": 21
  },
  {
   "metadata": {
    "ExecuteTime": {
     "end_time": "2025-04-07T18:42:34.362039Z",
     "start_time": "2025-04-07T18:42:34.351279Z"
    }
   },
   "cell_type": "code",
   "source": [
    "df.dropna(subset=['RoomService','FoodCourt','ShoppingMall','Spa','VRDeck'], inplace=True)\n",
    "df.shape"
   ],
   "id": "e4bae8abe690f896",
   "outputs": [
    {
     "data": {
      "text/plain": [
       "(8669, 15)"
      ]
     },
     "execution_count": 22,
     "metadata": {},
     "output_type": "execute_result"
    }
   ],
   "execution_count": 22
  },
  {
   "metadata": {
    "ExecuteTime": {
     "end_time": "2025-04-07T18:42:35.189603Z",
     "start_time": "2025-04-07T18:42:35.098580Z"
    }
   },
   "cell_type": "code",
   "source": [
    "def fillna_CryoSleep(row):\n",
    "    x = 0.0\n",
    "    for col in money_cols:\n",
    "        x += row[col]\n",
    "    if x==0.0:\n",
    "        return True\n",
    "    else:\n",
    "        return False\n",
    "\n",
    "\n",
    "df['CryoSleep'] = df['CryoSleep'].fillna(df.apply(fillna_CryoSleep, axis=1).astype(bool))\n"
   ],
   "id": "3e0b9bdbee02db8",
   "outputs": [
    {
     "name": "stderr",
     "output_type": "stream",
     "text": [
      "C:\\Users\\medya\\AppData\\Local\\Temp\\ipykernel_32692\\633745580.py:11: FutureWarning: Downcasting object dtype arrays on .fillna, .ffill, .bfill is deprecated and will change in a future version. Call result.infer_objects(copy=False) instead. To opt-in to the future behavior, set `pd.set_option('future.no_silent_downcasting', True)`\n",
      "  df['CryoSleep'] = df['CryoSleep'].fillna(df.apply(fillna_CryoSleep, axis=1).astype(bool))\n"
     ]
    }
   ],
   "execution_count": 23
  },
  {
   "metadata": {
    "ExecuteTime": {
     "end_time": "2025-04-07T18:42:35.985084Z",
     "start_time": "2025-04-07T18:42:35.977444Z"
    }
   },
   "cell_type": "code",
   "source": [
    "df.dropna(subset=['VIP'], inplace=True)\n",
    "df.drop(columns='Name', inplace=True)"
   ],
   "id": "6bee0a228d7466f3",
   "outputs": [],
   "execution_count": 24
  },
  {
   "metadata": {
    "ExecuteTime": {
     "end_time": "2025-04-07T18:42:36.815540Z",
     "start_time": "2025-04-07T18:42:36.805189Z"
    }
   },
   "cell_type": "code",
   "source": "df.info()",
   "id": "b9aedd010b7fc6a5",
   "outputs": [
    {
     "name": "stdout",
     "output_type": "stream",
     "text": [
      "<class 'pandas.core.frame.DataFrame'>\n",
      "Index: 8468 entries, 0 to 8692\n",
      "Data columns (total 14 columns):\n",
      " #   Column        Non-Null Count  Dtype  \n",
      "---  ------        --------------  -----  \n",
      " 0   PassengerId   8468 non-null   object \n",
      " 1   HomePlanet    8468 non-null   object \n",
      " 2   CryoSleep     8468 non-null   bool   \n",
      " 3   Destination   8468 non-null   object \n",
      " 4   Age           8468 non-null   float64\n",
      " 5   VIP           8468 non-null   object \n",
      " 6   RoomService   8468 non-null   float64\n",
      " 7   FoodCourt     8468 non-null   float64\n",
      " 8   ShoppingMall  8468 non-null   float64\n",
      " 9   Spa           8468 non-null   float64\n",
      " 10  VRDeck        8468 non-null   float64\n",
      " 11  Transported   8468 non-null   bool   \n",
      " 12  deck          8468 non-null   object \n",
      " 13  side          8468 non-null   object \n",
      "dtypes: bool(2), float64(6), object(6)\n",
      "memory usage: 876.6+ KB\n"
     ]
    }
   ],
   "execution_count": 25
  },
  {
   "metadata": {
    "ExecuteTime": {
     "end_time": "2025-04-07T18:42:37.579578Z",
     "start_time": "2025-04-07T18:42:37.557408Z"
    }
   },
   "cell_type": "code",
   "source": [
    "df2=df.copy()\n",
    "X=df2.drop(['Transported','PassengerId'],axis=1)\n",
    "X=pd.get_dummies(X)\n",
    "y=df2['Transported']\n",
    "\n",
    "X_train, X_test, y_train, y_test = train_test_split(X, y, test_size=0.2, random_state=42)\n"
   ],
   "id": "f6ed9b45c2eab770",
   "outputs": [],
   "execution_count": 26
  },
  {
   "metadata": {
    "ExecuteTime": {
     "end_time": "2025-04-07T18:43:01.895236Z",
     "start_time": "2025-04-07T18:42:38.292330Z"
    }
   },
   "cell_type": "code",
   "source": [
    "from sklearn.ensemble import RandomForestClassifier , GradientBoostingClassifier\n",
    "from sklearn.model_selection import GridSearchCV\n",
    "pipelines = {\n",
    "    'rf': make_pipeline(StandardScaler(), RandomForestClassifier(random_state=1234)),\n",
    "    'gb': make_pipeline(StandardScaler(), GradientBoostingClassifier(random_state=1234))\n",
    "}\n",
    "\n",
    "grid = {\n",
    "    'rf': {\n",
    "        'randomforestclassifier__n_estimators': [100, 200, 300]\n",
    "    },\n",
    "    'gb': {\n",
    "        'gradientboostingclassifier__n_estimators': [100, 200, 300]\n",
    "    }\n",
    "}\n",
    "\n",
    "fit_models = {}\n",
    "\n",
    "for algo, pipeline in pipelines.items():\n",
    "    print(f\"Training {algo}...\")\n",
    "    model = GridSearchCV(pipeline, grid[algo], n_jobs=-1, cv=10)\n",
    "    model.fit(X_train, y_train)\n",
    "    fit_models[algo] = model\n",
    "    print(f\"Best parameters for {algo}: {model.best_params_}\")\n",
    "    print(f\"Best score for {algo}: {model.best_score_}\\n\")\n"
   ],
   "id": "bb6f5b263c5c51e0",
   "outputs": [
    {
     "name": "stdout",
     "output_type": "stream",
     "text": [
      "Training rf...\n",
      "Best parameters for rf: {'randomforestclassifier__n_estimators': 300}\n",
      "Best score for rf: 0.7987945691341725\n",
      "\n",
      "Training gb...\n",
      "Best parameters for gb: {'gradientboostingclassifier__n_estimators': 200}\n",
      "Best score for gb: 0.8057369620440692\n",
      "\n"
     ]
    }
   ],
   "execution_count": 27
  },
  {
   "metadata": {
    "ExecuteTime": {
     "end_time": "2025-04-07T18:43:02.007593Z",
     "start_time": "2025-04-07T18:43:01.909716Z"
    }
   },
   "cell_type": "code",
   "source": [
    "from sklearn.metrics import accuracy_score,precision_score,recall_score\n",
    "\n",
    "for algo, model in fit_models.items():\n",
    "    y_pred=model.predict(X_test)\n",
    "    acc=accuracy_score(y_test, y_pred)\n",
    "    prec=precision_score(y_test, y_pred)\n",
    "    recall=recall_score(y_test, y_pred)\n",
    "    print(f'Metricsfor {algo}: accuracy {acc}, precision {prec} recall: {recall} ')"
   ],
   "id": "9019b2d6a913656c",
   "outputs": [
    {
     "name": "stdout",
     "output_type": "stream",
     "text": [
      "Metricsfor rf: accuracy 0.7786304604486423, precision 0.8106060606060606 recall: 0.740484429065744 \n",
      "Metricsfor gb: accuracy 0.8004722550177096, precision 0.7922651933701658 recall: 0.8269896193771626 \n"
     ]
    }
   ],
   "execution_count": 28
  },
  {
   "metadata": {
    "ExecuteTime": {
     "end_time": "2025-04-07T18:57:36.995548Z",
     "start_time": "2025-04-07T18:57:36.946419Z"
    }
   },
   "cell_type": "code",
   "source": "df_test=pd.read_csv(r\"C:\\Users\\medya\\Desktop\\test SpaceShip.csv\")",
   "id": "3b550094a910615f",
   "outputs": [],
   "execution_count": 41
  },
  {
   "metadata": {
    "ExecuteTime": {
     "end_time": "2025-04-07T19:08:57.906069Z",
     "start_time": "2025-04-07T19:08:57.893362Z"
    }
   },
   "cell_type": "code",
   "source": "df_test.shape",
   "id": "25e58f746985baa9",
   "outputs": [
    {
     "data": {
      "text/plain": [
       "(4277, 13)"
      ]
     },
     "execution_count": 53,
     "metadata": {},
     "output_type": "execute_result"
    }
   ],
   "execution_count": 53
  },
  {
   "metadata": {
    "ExecuteTime": {
     "end_time": "2025-04-07T19:54:55.479637Z",
     "start_time": "2025-04-07T19:54:55.428911Z"
    }
   },
   "cell_type": "code",
   "source": [
    "def preprocess_data(df):\n",
    "    df['HomePlanet'] = df['HomePlanet'].fillna('Missing')\n",
    "\n",
    "    if 'Cabin' in df.columns:\n",
    "        df['deck'] = df['Cabin'].apply(lambda x: x.split('/')[0] if pd.notnull(x) else 'Missing')\n",
    "        df['side'] = df['Cabin'].apply(lambda x: x.split('/')[2] if pd.notnull(x) else 'Missing')\n",
    "        df.drop(columns='Cabin', inplace=True)\n",
    "    else:\n",
    "        df['deck'] = 'Missing'\n",
    "        df['side'] = 'Missing'\n",
    "\n",
    "    df['Age'] = df['Age'].fillna(df['Age'].mean())\n",
    "    df['Destination'] = df['Destination'].fillna('TRAPPIST-1e')\n",
    "\n",
    "    money_cols = ['RoomService', 'FoodCourt', 'ShoppingMall', 'Spa', 'VRDeck']\n",
    "    for col in money_cols:\n",
    "        df.loc[(df['CryoSleep'] == True) & (df[col].isna()), col] = 0\n",
    "    for col in money_cols:\n",
    "        mean_value = df[df['CryoSleep'] == False][col].mean()\n",
    "        df.loc[(df['CryoSleep'] == False) & (df[col].isna()), col] = mean_value\n",
    "\n",
    "    df.dropna(subset=money_cols, inplace=True)\n",
    "\n",
    "    def fillna_CryoSleep(row):\n",
    "        x = sum([row[col] for col in money_cols])\n",
    "        return x == 0.0\n",
    "\n",
    "    df['CryoSleep'] = df['CryoSleep'].fillna(df.apply(fillna_CryoSleep, axis=1).astype(bool))\n",
    "\n",
    "    df.dropna(subset=['VIP'], inplace=True)\n",
    "    if 'Name' in df.columns:\n",
    "        df.drop(columns='Name', inplace=True)\n",
    "\n",
    "    return df\n"
   ],
   "id": "cbc567431fbb904b",
   "outputs": [],
   "execution_count": 65
  },
  {
   "metadata": {
    "ExecuteTime": {
     "end_time": "2025-04-07T19:54:58.267207Z",
     "start_time": "2025-04-07T19:54:58.166101Z"
    }
   },
   "cell_type": "code",
   "source": [
    "test_SpaceShip1=df_test.copy()\n",
    "test_SpaceShip1=preprocess_data(test_SpaceShip1)"
   ],
   "id": "31c8ba362ac56a03",
   "outputs": [],
   "execution_count": 66
  },
  {
   "metadata": {
    "ExecuteTime": {
     "end_time": "2025-04-07T19:55:13.845468Z",
     "start_time": "2025-04-07T19:55:13.823846Z"
    }
   },
   "cell_type": "code",
   "source": "test_SpaceShip1.shape",
   "id": "5933dab2cb6daa76",
   "outputs": [
    {
     "data": {
      "text/plain": [
       "(4178, 13)"
      ]
     },
     "execution_count": 67,
     "metadata": {},
     "output_type": "execute_result"
    }
   ],
   "execution_count": 67
  },
  {
   "metadata": {
    "ExecuteTime": {
     "end_time": "2025-04-07T19:56:00.594445Z",
     "start_time": "2025-04-07T19:56:00.550917Z"
    }
   },
   "cell_type": "code",
   "source": "test_SpaceShip1=pd.get_dummies(test_SpaceShip1.drop('PassengerId', axis=1))",
   "id": "8de776243244c048",
   "outputs": [],
   "execution_count": 68
  },
  {
   "metadata": {
    "ExecuteTime": {
     "end_time": "2025-04-07T19:56:07.426899Z",
     "start_time": "2025-04-07T19:56:07.420107Z"
    }
   },
   "cell_type": "code",
   "source": "test_SpaceShip1.shape",
   "id": "c11b38ba4690515a",
   "outputs": [
    {
     "data": {
      "text/plain": [
       "(4178, 18)"
      ]
     },
     "execution_count": 69,
     "metadata": {},
     "output_type": "execute_result"
    }
   ],
   "execution_count": 69
  },
  {
   "metadata": {
    "ExecuteTime": {
     "end_time": "2025-04-07T20:00:11.839054Z",
     "start_time": "2025-04-07T20:00:11.700816Z"
    }
   },
   "cell_type": "code",
   "source": [
    "X_test = pd.get_dummies(test_SpaceShip)\n",
    "\n",
    "\n",
    "X_test = X_test.reindex(columns=X_train.columns, fill_value=0)\n",
    "y_pred = fit_models['gb'].predict(X_test)\n"
   ],
   "id": "7e7ee2dc3c267b7a",
   "outputs": [],
   "execution_count": 72
  },
  {
   "metadata": {
    "ExecuteTime": {
     "end_time": "2025-04-07T20:00:26.710963Z",
     "start_time": "2025-04-07T20:00:26.700060Z"
    }
   },
   "cell_type": "code",
   "source": "print(y_pred)",
   "id": "26a7e50020e66067",
   "outputs": [
    {
     "name": "stdout",
     "output_type": "stream",
     "text": [
      "[ True False  True ...  True  True  True]\n"
     ]
    }
   ],
   "execution_count": 73
  },
  {
   "metadata": {
    "ExecuteTime": {
     "end_time": "2025-04-07T20:16:33.426356Z",
     "start_time": "2025-04-07T20:16:33.399136Z"
    }
   },
   "cell_type": "code",
   "source": [
    "submission = pd.DataFrame({'PassengerId':df_test['PassengerId'],'Transported': y_pred})\n",
    "submission"
   ],
   "id": "a9626d47669627f5",
   "outputs": [
    {
     "data": {
      "text/plain": [
       "     PassengerId  Transported\n",
       "0        0013_01         True\n",
       "1        0018_01        False\n",
       "2        0019_01         True\n",
       "3        0021_01         True\n",
       "4        0023_01         True\n",
       "...          ...          ...\n",
       "4272     9266_02         True\n",
       "4273     9269_01        False\n",
       "4274     9271_01         True\n",
       "4275     9273_01         True\n",
       "4276     9277_01         True\n",
       "\n",
       "[4178 rows x 2 columns]"
      ],
      "text/html": [
       "<div>\n",
       "<style scoped>\n",
       "    .dataframe tbody tr th:only-of-type {\n",
       "        vertical-align: middle;\n",
       "    }\n",
       "\n",
       "    .dataframe tbody tr th {\n",
       "        vertical-align: top;\n",
       "    }\n",
       "\n",
       "    .dataframe thead th {\n",
       "        text-align: right;\n",
       "    }\n",
       "</style>\n",
       "<table border=\"1\" class=\"dataframe\">\n",
       "  <thead>\n",
       "    <tr style=\"text-align: right;\">\n",
       "      <th></th>\n",
       "      <th>PassengerId</th>\n",
       "      <th>Transported</th>\n",
       "    </tr>\n",
       "  </thead>\n",
       "  <tbody>\n",
       "    <tr>\n",
       "      <th>0</th>\n",
       "      <td>0013_01</td>\n",
       "      <td>True</td>\n",
       "    </tr>\n",
       "    <tr>\n",
       "      <th>1</th>\n",
       "      <td>0018_01</td>\n",
       "      <td>False</td>\n",
       "    </tr>\n",
       "    <tr>\n",
       "      <th>2</th>\n",
       "      <td>0019_01</td>\n",
       "      <td>True</td>\n",
       "    </tr>\n",
       "    <tr>\n",
       "      <th>3</th>\n",
       "      <td>0021_01</td>\n",
       "      <td>True</td>\n",
       "    </tr>\n",
       "    <tr>\n",
       "      <th>4</th>\n",
       "      <td>0023_01</td>\n",
       "      <td>True</td>\n",
       "    </tr>\n",
       "    <tr>\n",
       "      <th>...</th>\n",
       "      <td>...</td>\n",
       "      <td>...</td>\n",
       "    </tr>\n",
       "    <tr>\n",
       "      <th>4272</th>\n",
       "      <td>9266_02</td>\n",
       "      <td>True</td>\n",
       "    </tr>\n",
       "    <tr>\n",
       "      <th>4273</th>\n",
       "      <td>9269_01</td>\n",
       "      <td>False</td>\n",
       "    </tr>\n",
       "    <tr>\n",
       "      <th>4274</th>\n",
       "      <td>9271_01</td>\n",
       "      <td>True</td>\n",
       "    </tr>\n",
       "    <tr>\n",
       "      <th>4275</th>\n",
       "      <td>9273_01</td>\n",
       "      <td>True</td>\n",
       "    </tr>\n",
       "    <tr>\n",
       "      <th>4276</th>\n",
       "      <td>9277_01</td>\n",
       "      <td>True</td>\n",
       "    </tr>\n",
       "  </tbody>\n",
       "</table>\n",
       "<p>4178 rows × 2 columns</p>\n",
       "</div>"
      ]
     },
     "execution_count": 79,
     "metadata": {},
     "output_type": "execute_result"
    }
   ],
   "execution_count": 79
  },
  {
   "metadata": {
    "ExecuteTime": {
     "end_time": "2025-04-07T20:12:16.945336Z",
     "start_time": "2025-04-07T20:12:16.927363Z"
    }
   },
   "cell_type": "code",
   "source": [
    "sample_submission=pd.read_csv(r\"C:\\Users\\medya\\Desktop\\sample_submission SpaceShip.csv\")\n",
    "sample_submission"
   ],
   "id": "d07718907da0181f",
   "outputs": [
    {
     "data": {
      "text/plain": [
       "     PassengerId  Transported\n",
       "0        0013_01        False\n",
       "1        0018_01        False\n",
       "2        0019_01        False\n",
       "3        0021_01        False\n",
       "4        0023_01        False\n",
       "...          ...          ...\n",
       "4272     9266_02        False\n",
       "4273     9269_01        False\n",
       "4274     9271_01        False\n",
       "4275     9273_01        False\n",
       "4276     9277_01        False\n",
       "\n",
       "[4277 rows x 2 columns]"
      ],
      "text/html": [
       "<div>\n",
       "<style scoped>\n",
       "    .dataframe tbody tr th:only-of-type {\n",
       "        vertical-align: middle;\n",
       "    }\n",
       "\n",
       "    .dataframe tbody tr th {\n",
       "        vertical-align: top;\n",
       "    }\n",
       "\n",
       "    .dataframe thead th {\n",
       "        text-align: right;\n",
       "    }\n",
       "</style>\n",
       "<table border=\"1\" class=\"dataframe\">\n",
       "  <thead>\n",
       "    <tr style=\"text-align: right;\">\n",
       "      <th></th>\n",
       "      <th>PassengerId</th>\n",
       "      <th>Transported</th>\n",
       "    </tr>\n",
       "  </thead>\n",
       "  <tbody>\n",
       "    <tr>\n",
       "      <th>0</th>\n",
       "      <td>0013_01</td>\n",
       "      <td>False</td>\n",
       "    </tr>\n",
       "    <tr>\n",
       "      <th>1</th>\n",
       "      <td>0018_01</td>\n",
       "      <td>False</td>\n",
       "    </tr>\n",
       "    <tr>\n",
       "      <th>2</th>\n",
       "      <td>0019_01</td>\n",
       "      <td>False</td>\n",
       "    </tr>\n",
       "    <tr>\n",
       "      <th>3</th>\n",
       "      <td>0021_01</td>\n",
       "      <td>False</td>\n",
       "    </tr>\n",
       "    <tr>\n",
       "      <th>4</th>\n",
       "      <td>0023_01</td>\n",
       "      <td>False</td>\n",
       "    </tr>\n",
       "    <tr>\n",
       "      <th>...</th>\n",
       "      <td>...</td>\n",
       "      <td>...</td>\n",
       "    </tr>\n",
       "    <tr>\n",
       "      <th>4272</th>\n",
       "      <td>9266_02</td>\n",
       "      <td>False</td>\n",
       "    </tr>\n",
       "    <tr>\n",
       "      <th>4273</th>\n",
       "      <td>9269_01</td>\n",
       "      <td>False</td>\n",
       "    </tr>\n",
       "    <tr>\n",
       "      <th>4274</th>\n",
       "      <td>9271_01</td>\n",
       "      <td>False</td>\n",
       "    </tr>\n",
       "    <tr>\n",
       "      <th>4275</th>\n",
       "      <td>9273_01</td>\n",
       "      <td>False</td>\n",
       "    </tr>\n",
       "    <tr>\n",
       "      <th>4276</th>\n",
       "      <td>9277_01</td>\n",
       "      <td>False</td>\n",
       "    </tr>\n",
       "  </tbody>\n",
       "</table>\n",
       "<p>4277 rows × 2 columns</p>\n",
       "</div>"
      ]
     },
     "execution_count": 76,
     "metadata": {},
     "output_type": "execute_result"
    }
   ],
   "execution_count": 76
  },
  {
   "metadata": {
    "ExecuteTime": {
     "end_time": "2025-04-07T20:14:30.319076Z",
     "start_time": "2025-04-07T20:14:30.247716Z"
    }
   },
   "cell_type": "code",
   "source": "submission.to_csv(\"my_submission.csv\", index=False)\n",
   "id": "53c0e27de2cae1ac",
   "outputs": [],
   "execution_count": 78
  },
  {
   "metadata": {
    "ExecuteTime": {
     "end_time": "2025-04-07T20:34:28.357087Z",
     "start_time": "2025-04-07T20:34:25.727610Z"
    }
   },
   "cell_type": "code",
   "source": "!kaggle competitions submit -c spaceship-titanic -m \"initial gb model\" -f \"my_submission.csv\"\n",
   "id": "efcf8685b38fde13",
   "outputs": [
    {
     "name": "stdout",
     "output_type": "stream",
     "text": [
      "403 Client Error: Forbidden for url: https://www.kaggle.com/api/v1/competitions/submissions/submit/spaceship-titanic\n"
     ]
    },
    {
     "name": "stderr",
     "output_type": "stream",
     "text": [
      "\n",
      "  0%|          | 0.00/73.9k [00:00<?, ?B/s]\n",
      " 22%|##1       | 16.0k/73.9k [00:00<00:00, 100kB/s]\n",
      "100%|##########| 73.9k/73.9k [00:01<00:00, 61.0kB/s]\n"
     ]
    }
   ],
   "execution_count": 87
  },
  {
   "metadata": {},
   "cell_type": "code",
   "outputs": [],
   "execution_count": null,
   "source": "",
   "id": "a0b99c2267ab1503"
  }
 ],
 "metadata": {
  "kernelspec": {
   "display_name": "Python 3",
   "language": "python",
   "name": "python3"
  },
  "language_info": {
   "codemirror_mode": {
    "name": "ipython",
    "version": 2
   },
   "file_extension": ".py",
   "mimetype": "text/x-python",
   "name": "python",
   "nbconvert_exporter": "python",
   "pygments_lexer": "ipython2",
   "version": "2.7.6"
  }
 },
 "nbformat": 4,
 "nbformat_minor": 5
}
